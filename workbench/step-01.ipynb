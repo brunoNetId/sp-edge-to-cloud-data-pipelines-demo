{
 "cells": [
  {
   "cell_type": "markdown",
   "id": "e20a0971",
   "metadata": {
    "id": "e20a0971"
   },
   "source": [
    "# Building an Image Classifier Deep Network applying Transfer Learning"
   ]
  },
  {
   "cell_type": "code",
   "execution_count": null,
   "id": "c3a71cd6-355c-4e8b-8863-75eb49800798",
   "metadata": {},
   "outputs": [],
   "source": [
    "import os\n",
    "\n",
    "s3endpoint = os.environ['s3endpoint']\n",
    "s3bucket = os.environ['s3bucket_data']\n",
    "mount_path = os.environ['working_dir']\n",
    "s3accessKey = os.environ['aws_access_key']\n",
    "s3secretKey = os.environ['aws_secret_key']"
   ]
  },
  {
   "cell_type": "code",
   "execution_count": null,
   "id": "8wM31kI5-PeJ",
   "metadata": {
    "id": "8wM31kI5-PeJ"
   },
   "outputs": [],
   "source": [
    "# import the required libraries\n",
    "import matplotlib.pyplot as plt\n",
    "import tensorflow as tf\n",
    "from tensorflow.keras.applications.mobilenet_v2 import preprocess_input\n",
    "\n",
    "# from tensorflow.keras.preprocessing import image_dataset_from_directory\n",
    "# from tensorflow.keras.preprocessing.image import ImageDataGenerator\n",
    "# import tf.keras.utils\n",
    "from PIL import Image\n",
    "import numpy as np\n",
    "import os\n",
    "import base64\n",
    "from io import BytesIO"
   ]
  },
  {
   "cell_type": "markdown",
   "id": "1b897d31-43f6-4b83-b719-6f326504f32a",
   "metadata": {},
   "source": [
    "# Clean data in PVC"
   ]
  },
  {
   "cell_type": "code",
   "execution_count": null,
   "id": "0633966f-7213-4579-9b5b-3f4746a54757",
   "metadata": {},
   "outputs": [],
   "source": [
    "# mount_path = \"/data/\"\n",
    "# mount_path = \"\"\n",
    "images_path = mount_path+\"images\"\n",
    "models_path = mount_path+\"models\"\n",
    "\n",
    "os.system(\"rm -rf \"+images_path)\n",
    "os.system(\"rm -rf \"+models_path)\n",
    "# os.system(\"ls \"+images_path)\n",
    "\n",
    "\n"
   ]
  },
  {
   "cell_type": "markdown",
   "id": "f0a38e59-edce-49cb-b271-2d28edd7526f",
   "metadata": {},
   "source": [
    "# Data Retrieval from S3"
   ]
  },
  {
   "cell_type": "code",
   "execution_count": null,
   "id": "5e82e760-ea0c-4552-b39e-c736789d2203",
   "metadata": {},
   "outputs": [],
   "source": [
    "import boto3\n",
    "from botocore.client import Config\n",
    "from PIL import Image\n",
    "\n",
    "# s3endpoint='https://minio-api-test02.apps.rhods-internal.61tk.p1.openshiftapps.com',\n",
    "# s3endpoint = \"https://minio-api-demo-ai.apps.cluster-ssfg4.dynamic.opentlc.com\"\n",
    "# s3bucket = \"data\"\n",
    "\n",
    "s3_client = boto3.client('s3',\n",
    "        endpoint_url=s3endpoint,\n",
    "        aws_access_key_id=s3accessKey,\n",
    "        aws_secret_access_key=s3secretKey,\n",
    "        # aws_access_key_id='ZpPJfDh82BVcKnCYdpKH',\n",
    "        # aws_secret_access_key='cB6xKinAwdWxZh8gE3SwPKPPsBEnfakSMaipF1rz',\n",
    "        config=Config(signature_version='s3v4'),\n",
    "        region_name='us-east-1')\n",
    "\n",
    "# Some demos might need 1000+ images to train the model\n",
    "# The API 'list_objects_v2' limits results to 1000 keys, so we use pagination.\n",
    "paginator = s3_client.get_paginator('list_objects_v2')\n",
    "pages = paginator.paginate(Bucket=s3bucket)\n",
    "\n",
    "# Image Validator (using PIL)\n",
    "def is_valid_image_pillow(file_name):\n",
    "    try:\n",
    "        with Image.open(file_name) as img:\n",
    "            img.verify()\n",
    "            return True\n",
    "    except (IOError, SyntaxError):\n",
    "        return False\n",
    "\n",
    "for page in pages:\n",
    "    for obj in page['Contents']:\n",
    "        # print(obj['Key'])\n",
    "        if not obj['Key'].endswith(\"/\"):\n",
    "            print(obj['Key'])\n",
    "\n",
    "            if not os.path.exists(os.path.dirname(mount_path+obj['Key'])):\n",
    "                os.makedirs(os.path.dirname(mount_path+obj['Key']))\n",
    "            s3_client.download_file(s3bucket,obj['Key'], mount_path+obj['Key'])\n",
    "\n",
    "            # This code prevents corrupted images to break the training process\n",
    "            if not is_valid_image_pillow(mount_path+obj['Key']):\n",
    "                print(\"Deleting invalid image (maybe corrupt?): \"+mount_path+obj['Key'])\n",
    "                os.remove(mount_path+obj['Key'])"
   ]
  }
 ],
 "metadata": {
  "colab": {
   "name": "Alpaca image classifier.ipynb",
   "provenance": []
  },
  "kernelspec": {
   "display_name": "Python 3.9",
   "language": "python",
   "name": "python3"
  },
  "language_info": {
   "codemirror_mode": {
    "name": "ipython",
    "version": 3
   },
   "file_extension": ".py",
   "mimetype": "text/x-python",
   "name": "python",
   "nbconvert_exporter": "python",
   "pygments_lexer": "ipython3",
   "version": "3.9.18"
  }
 },
 "nbformat": 4,
 "nbformat_minor": 5
}
